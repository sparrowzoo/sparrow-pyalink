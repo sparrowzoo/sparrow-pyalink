{
 "cells": [
  {
   "cell_type": "code",
   "execution_count": 133,
   "metadata": {
    "collapsed": true,
    "pycharm": {
     "is_executing": false
    }
   },
   "outputs": [
    {
     "name": "stdout",
     "text": [
      "                  business_id  \\\n",
      "0      Iu-oeVzv8ZgP18NIB0UMqg   \n",
      "1      ae5tm46-ewAhUJ6HR4fXFA   \n",
      "2      lb9qELwduFgBo408x2VKOA   \n",
      "3      HPWmjuivv3xJ279qSVfNaQ   \n",
      "4      DARh6yjrGGVZ7R3Gdh4CMA   \n",
      "...                       ...   \n",
      "13485  gYMhUx_NSheqhvD3agJ8fg   \n",
      "13486  4cSt8JnzwvD7cLNBtYXhlg   \n",
      "13487  O5jX_6rUv-Fn9yFYLLHp_g   \n",
      "13488  MUOQiWEblJRsjIfRsC6Ofw   \n",
      "13489  8HqUl6witSBb156Kohx74A   \n",
      "\n",
      "                                            full_address  \\\n",
      "0      3320 S Hill St\\nSouth East LA\\nLos Angeles, CA...   \n",
      "1      12 Arrow St\\nSte 108\\nHarvard Square\\nCambridg...   \n",
      "2             19 King St E\\n2nd floor\\nKitchener, ON N2G   \n",
      "3               325 W State St\\nWest Lafayette, IN 47906   \n",
      "4      2803 San Jacinto Blvd\\nUniversity of Texas\\nAu...   \n",
      "...                                                  ...   \n",
      "13485  3335 S Figueroa St\\nUGY4\\nSouth Los Angeles\\nL...   \n",
      "13486  2236 S Figueroa St\\nSouth Los Angeles\\nLos Ang...   \n",
      "13487  303 Detroit St\\nKerrytown Ann Arbor\\nAnn Arbor...   \n",
      "13488  1132 Massachusetts Ave\\nHarvard Square\\nCambri...   \n",
      "13489         1712 Lavaca St\\nDowntown\\nAustin, TX 78701   \n",
      "\n",
      "                                                 schools   open  \\\n",
      "0                    [University of Southern California]   True   \n",
      "1      [Massachusetts Institute of Technology, Harvar...   True   \n",
      "2                               [University of Waterloo]   True   \n",
      "3                                    [Purdue University]   True   \n",
      "4                         [University of Texas - Austin]   True   \n",
      "...                                                  ...    ...   \n",
      "13485                [University of Southern California]   True   \n",
      "13486                [University of Southern California]   True   \n",
      "13487               [University of Michigan - Ann Arbor]  False   \n",
      "13488  [Massachusetts Institute of Technology, Harvar...   True   \n",
      "13489                     [University of Texas - Austin]   True   \n",
      "\n",
      "                                              categories  \\\n",
      "0                  [Medical Centers, Health and Medical]   \n",
      "1                             [Massage, Beauty and Spas]   \n",
      "2                              [Tattoo, Beauty and Spas]   \n",
      "3      [Music & DVDs, Books, Mags, Music and Video, S...   \n",
      "4                                   [Food, Coffee & Tea]   \n",
      "...                                                  ...   \n",
      "13485                  [Food, Ice Cream & Frozen Yogurt]   \n",
      "13486                         [Tanning, Beauty and Spas]   \n",
      "13487  [Bars, Asian Fusion, Nightlife, Lounges, Resta...   \n",
      "13488                             [Specialty Food, Food]   \n",
      "13489                            [Japanese, Restaurants]   \n",
      "\n",
      "                                               photo_url            city  \\\n",
      "0      http://s3-media1.ak.yelpcdn.com/bphoto/SdUWxRE...     Los Angeles   \n",
      "1      http://s3-media1.ak.yelpcdn.com/bphoto/IGjhD4m...       Cambridge   \n",
      "2      http://s3-media1.ak.yelpcdn.com/assets/2/www/i...       Kitchener   \n",
      "3      http://s3-media4.ak.yelpcdn.com/bphoto/tsa18S_...  West Lafayette   \n",
      "4      http://s3-media1.ak.yelpcdn.com/bphoto/7Iv_opb...          Austin   \n",
      "...                                                  ...             ...   \n",
      "13485  http://s3-media3.ak.yelpcdn.com/bphoto/Pzwl1kq...     Los Angeles   \n",
      "13486  http://s3-media4.ak.yelpcdn.com/bphoto/RbxKqvV...     Los Angeles   \n",
      "13487  http://s3-media1.ak.yelpcdn.com/assets/2/www/i...       Ann Arbor   \n",
      "13488  http://s3-media1.ak.yelpcdn.com/bphoto/VKCVJol...       Cambridge   \n",
      "13489  http://s3-media2.ak.yelpcdn.com/bphoto/OeqbEE-...          Austin   \n",
      "\n",
      "       review_count                               name          neighborhoods  \\\n",
      "0                 2  Southern California Medical Group        [South East LA]   \n",
      "1                 4             Harvard Square Shiatsu       [Harvard Square]   \n",
      "2                 2           Faith & Glory Collective                     []   \n",
      "3                 3            Von's Records & Posters                     []   \n",
      "4                85                          JP's Java  [University of Texas]   \n",
      "...             ...                                ...                    ...   \n",
      "13485            65                         Yogurtland    [South Los Angeles]   \n",
      "13486             8                     Bronz Body Tan    [South Los Angeles]   \n",
      "13487             2                     The Metro Cafe  [Kerrytown Ann Arbor]   \n",
      "13488            29                   Follow The Honey       [Harvard Square]   \n",
      "13489            35                      Lavaca Teppan             [Downtown]   \n",
      "\n",
      "                                                     url   longitude state  \\\n",
      "0      http://www.yelp.com/biz/southern-california-me... -118.274281    CA   \n",
      "1      http://www.yelp.com/biz/harvard-square-shiatsu...  -71.114816    MA   \n",
      "2      http://www.yelp.ca/biz/faith-and-glory-collect...  -80.488824    ON   \n",
      "3      http://www.yelp.com/biz/vons-records-and-poste...  -86.908764    IN   \n",
      "4                http://www.yelp.com/biz/jps-java-austin  -97.734496    TX   \n",
      "...                                                  ...         ...   ...   \n",
      "13485  http://www.yelp.com/biz/yogurtland-los-angeles-10 -118.279827    CA   \n",
      "13486  http://www.yelp.com/biz/bronz-body-tan-los-ang... -118.274044    CA   \n",
      "13487   http://www.yelp.com/biz/the-metro-cafe-ann-arbor  -83.746754    MI   \n",
      "13488  http://www.yelp.com/biz/follow-the-honey-cambr...  -71.114024    MA   \n",
      "13489       http://www.yelp.com/biz/lavaca-teppan-austin  -97.741150    TX   \n",
      "\n",
      "       stars   latitude      type  \n",
      "0        3.5  34.019710  business  \n",
      "1        4.0  42.371133  business  \n",
      "2        4.0  43.449645  business  \n",
      "3        3.5  40.423964  business  \n",
      "4        3.5  30.290495  business  \n",
      "...      ...        ...       ...  \n",
      "13485    4.0  34.022191  business  \n",
      "13486    3.5  34.031213  business  \n",
      "13487    3.5  42.283375  business  \n",
      "13488    4.5  42.370902  business  \n",
      "13489    3.5  30.279938  business  \n",
      "\n",
      "[13490 rows x 16 columns]\n"
     ],
     "output_type": "stream"
    }
   ],
   "source": [
    "import json\n",
    "import pandas as pd\n",
    "import matplotlib.pyplot as plt\n",
    "import seaborn as sns\n",
    "from sparrow.tools.path import get_workspace_path\n",
    "business_file=open(get_workspace_path(\"source/sparrow/feature/binning\")+\"dataset/yelp/yelp_academic_dataset_business.json\")\n",
    "business_data_frame=pd.DataFrame([json.loads(x) for x in business_file.readlines()])\n",
    "business_file.close()\n",
    "print(business_data_frame)"
   ]
  },
  {
   "cell_type": "code",
   "execution_count": 138,
   "outputs": [
    {
     "name": "stdout",
     "text": [
      "分位数\n",
      "0.82    32.0\n",
      "0.89    58.0\n",
      "0.93    88.0\n",
      "Name: review_count, dtype: float64\n"
     ],
     "output_type": "stream"
    },
    {
     "data": {
      "text/plain": "Text(0, 0.5, 'occurrence')"
     },
     "metadata": {},
     "output_type": "execute_result",
     "execution_count": 138
    },
    {
     "data": {
      "text/plain": "<Figure size 432x288 with 1 Axes>",
      "image/png": "[encoded data removed]"
     },
     "metadata": {},
     "output_type": "display_data"
    }
   ],
   "source": [
    "business_data_quantile=business_data_frame['review_count'].quantile([0.82,0.89,0.93])\n",
    "print(\"分位数\")\n",
    "print(business_data_quantile)\n",
    "sns.set_style(\"whitegrid\")\n",
    "fig, ax= plt.subplots() #Figure,Axes 坐标粙 \n",
    "plt.title(\"quantile illustration\")\n",
    "business_data_frame['review_count']\\\n",
    "    .hist(ax=ax,bins=100)\n",
    "x_legend=[]\n",
    "x_legend_label=[]\n",
    "\n",
    "for pos in business_data_quantile:\n",
    "    x_legend.append(plt.axvline(pos,color='r'))\n",
    "    x_legend_label.append(pos)\n",
    "\n",
    "ax.legend(x_legend,x_legend_label,fontsize=14)\n",
    "\n",
    "#ax.set_yscale('log')\n",
    "ax.set_xscale(\"log\")\n",
    "ax.tick_params(labelsize=14)\n",
    "ax.set_xlabel(\"review count\",fontsize=18)\n",
    "ax.set_ylabel(\"occurrence\",fontsize=18)"
   ],
   "metadata": {
    "collapsed": false,
    "pycharm": {
     "name": "#%%\n",
     "is_executing": false
    }
   }
  },
  {
   "cell_type": "code",
   "execution_count": 135,
   "outputs": [
    {
     "name": "stdout",
     "text": [
      "quantile count data\n",
      "[11, 33, 22, 66, 55, 77]\n",
      "quantile mapping\n",
      "[0 0 0 1 1 1]\n",
      "series\n",
      "0    11\n",
      "1    33\n",
      "2    22\n",
      "3    66\n",
      "4    55\n",
      "5    77\n",
      "dtype: int64\n",
      "quantile result\n",
      "0.1    16.5\n",
      "0.2    22.0\n",
      "0.3    27.5\n",
      "0.4    33.0\n",
      "0.5    44.0\n",
      "dtype: float64\n"
     ],
     "output_type": "stream"
    }
   ],
   "source": [
    "#分位数映射\n",
    "import pandas as pd\n",
    "\n",
    "quantile_count=[11,33,22,66,55,77]\n",
    "quantile_mapping= pd.qcut(quantile_count,2,labels=False)\n",
    "print(\"quantile count data\")\n",
    "print(quantile_count)\n",
    "print(\"quantile mapping\")\n",
    "print(quantile_mapping)\n",
    "#将一维数据转成一列矩阵\n",
    "print(\"series\")\n",
    "series=pd.Series(quantile_count)\n",
    "print(series)\n",
    "quantile_result=series.quantile([0.1,0.2,0.3,0.4,0.5])\n",
    "print(\"quantile result\")\n",
    "print(quantile_result)\n",
    "\n",
    "# quantile_result=series.quantile([0.4])\n",
    "# print(\"quantile result 40%\")\n",
    "# print(quantile_result)"
   ],
   "metadata": {
    "collapsed": false,
    "pycharm": {
     "name": "#%%\n",
     "is_executing": false
    }
   }
  }
 ],
 "metadata": {
  "kernelspec": {
   "display_name": "Python 3",
   "language": "python",
   "name": "python3"
  },
  "language_info": {
   "codemirror_mode": {
    "name": "ipython",
    "version": 2
   },
   "file_extension": ".py",
   "mimetype": "text/x-python",
   "name": "python",
   "nbconvert_exporter": "python",
   "pygments_lexer": "ipython2",
   "version": "2.7.6"
  },
  "pycharm": {
   "stem_cell": {
    "cell_type": "raw",
    "source": [],
    "metadata": {
     "collapsed": false
    }
   }
  }
 },
 "nbformat": 4,
 "nbformat_minor": 0
}