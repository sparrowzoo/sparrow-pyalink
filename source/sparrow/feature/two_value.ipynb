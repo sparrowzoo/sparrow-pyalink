{
 "cells": [
  {
   "cell_type": "code",
   "execution_count": 6,
   "metadata": {
    "collapsed": true,
    "pycharm": {
     "is_executing": false
    }
   },
   "outputs": [
    {
     "name": "stdout",
     "output_type": "stream",
     "text": [
      "/Users/harry/Python/sparrow-pyalink/\n"
     ]
    }
   ],
   "source": [
    "import pandas as pd\n",
    "from sparrow.tools.path import get_workspace_path\n",
    "workspace=get_workspace_path(\"source/sparrow/feature\")\n",
    "print(workspace)"
   ]
  },
  {
   "cell_type": "code",
   "execution_count": 7,
   "metadata": {
    "collapsed": false,
    "pycharm": {
     "name": "#%%\n",
     "is_executing": false
    }
   },
   "outputs": [
    {
     "name": "stdout",
     "output_type": "stream",
     "text": [
      "   0  1  2\n",
      "0  1  2  1\n",
      "1  1  3  1\n",
      "2  1  2  1\n"
     ]
    }
   ],
   "source": [
    "listen_count=pd.read_csv(workspace+\"dataset/csv/user_listen_count.csv\",header=None,decimal=',')\n",
    "listen_count[2]=1\n",
    "print(listen_count)\n",
    "\n",
    "\n"
   ]
  }
 ],
 "metadata": {
  "kernelspec": {
   "display_name": "Python 3",
   "language": "python",
   "name": "python3"
  },
  "language_info": {
   "codemirror_mode": {
    "name": "ipython",
    "version": 2
   },
   "file_extension": ".py",
   "mimetype": "text/x-python",
   "name": "python",
   "nbconvert_exporter": "python",
   "pygments_lexer": "ipython2",
   "version": "2.7.6"
  },
  "pycharm": {
   "stem_cell": {
    "cell_type": "raw",
    "source": [],
    "metadata": {
     "collapsed": false
    }
   }
  }
 },
 "nbformat": 4,
 "nbformat_minor": 0
}
