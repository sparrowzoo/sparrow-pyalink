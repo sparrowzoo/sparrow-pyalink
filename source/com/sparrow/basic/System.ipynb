{
 "cells": [
  {
   "cell_type": "code",
   "execution_count": 1,
   "metadata": {},
   "outputs": [
    {
     "name": "stdout",
     "output_type": "stream",
     "text": [
      "================Python import mode==========================\n命令行参数为:\nD:\\Users\\MC\\Anaconda3\\lib\\site-packages\\ipykernel_launcher.py\n-f\nC:\\Users\\MC\\AppData\\Roaming\\jupyter\\runtime\\kernel-76fcea46-ab71-423c-89b3-705aacfbdefd.json\n\n python 路径为 ['C:\\\\Users\\\\MC\\\\Documents', 'D:\\\\Users\\\\MC\\\\Anaconda3\\\\python37.zip', 'D:\\\\Users\\\\MC\\\\Anaconda3\\\\DLLs', 'D:\\\\Users\\\\MC\\\\Anaconda3\\\\lib', 'D:\\\\Users\\\\MC\\\\Anaconda3', '', 'D:\\\\Users\\\\MC\\\\Anaconda3\\\\lib\\\\site-packages', 'D:\\\\Users\\\\MC\\\\Anaconda3\\\\lib\\\\site-packages\\\\win32', 'D:\\\\Users\\\\MC\\\\Anaconda3\\\\lib\\\\site-packages\\\\win32\\\\lib', 'D:\\\\Users\\\\MC\\\\Anaconda3\\\\lib\\\\site-packages\\\\Pythonwin', 'D:\\\\Users\\\\MC\\\\Anaconda3\\\\lib\\\\site-packages\\\\IPython\\\\extensions', 'C:\\\\Users\\\\MC\\\\.ipython']\n"
     ]
    }
   ],
   "source": [
    "import sys\n",
    "print('================Python import mode==========================')\n",
    "print('命令行参数为:')\n",
    "for i in sys.argv:\n",
    "    print(i)\n",
    "print('\\n python 路径为', sys.path)"
   ]
  },
  {
   "cell_type": "code",
   "execution_count": null,
   "metadata": {},
   "outputs": [],
   "source": []
  }
 ],
 "metadata": {},
 "nbformat": 4,
 "nbformat_minor": 0
}
