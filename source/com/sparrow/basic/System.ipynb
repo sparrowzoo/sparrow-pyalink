{
 "cells": [
  {
   "cell_type": "code",
   "execution_count": 1,
   "metadata": {},
   "outputs": [
    {
     "name": "stdout",
     "output_type": "stream",
     "text": [
      "================Python import mode==========================\n命令行参数为:\n/Users/harry/.local/lib/python3.7/site-packages/ipykernel_launcher.py\n-f\n/Users/harry/Library/Jupyter/runtime/kernel-9ed74b62-e5c0-4938-96d1-a1e3cf55ccf9.json\n\n python 路径为 ['/Users/harry', '/opt/anaconda3/lib/python37.zip', '/opt/anaconda3/lib/python3.7', '/opt/anaconda3/lib/python3.7/lib-dynload', '', '/Users/harry/.local/lib/python3.7/site-packages', '/opt/anaconda3/lib/python3.7/site-packages', '/opt/anaconda3/lib/python3.7/site-packages/aeosa', '/Users/harry/.local/lib/python3.7/site-packages/IPython/extensions', '/Users/harry/.ipython']\n"
     ]
    }
   ],
   "source": [
    "import sys\n",
    "print('================Python import mode==========================')\n",
    "print('命令行参数为:')\n",
    "for i in sys.argv:\n",
    "    print(i)\n",
    "print('\\n python 路径为', sys.path)"
   ]
  },
  {
   "cell_type": "code",
   "execution_count": null,
   "metadata": {},
   "outputs": [],
   "source": []
  }
 ],
 "metadata": {},
 "nbformat": 4,
 "nbformat_minor": 0
}
