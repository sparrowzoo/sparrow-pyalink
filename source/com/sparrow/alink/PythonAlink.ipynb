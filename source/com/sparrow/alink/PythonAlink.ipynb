{
 "cells": [
  {
   "cell_type": "code",
   "execution_count": 1,
   "metadata": {},
   "outputs": [
    {
     "name": "stdout",
     "output_type": "stream",
     "text": [
      "\nUse one of the following commands to start using PyAlink:\n - useLocalEnv(parallelism, flinkHome=None, config=None)\n - useRemoteEnv(host, port, parallelism, flinkHome=None, localIp=\"localhost\", config=None)\nCall resetEnv() to reset environment and switch to another.\n\n"
     ]
    },
    {
     "name": "stdout",
     "output_type": "stream",
     "text": [
      "JVM listening on 127.0.0.1:64325\n"
     ]
    },
    {
     "data": {
      "text/plain": [
       "MLEnv(benv=<pyflink.dataset.execution_environment.ExecutionEnvironment object at 0x000001889F1E9588>, btenv=<pyflink.table.table_environment.BatchTableEnvironment object at 0x00000188B02953C8>, senv=<pyflink.datastream.stream_execution_environment.StreamExecutionEnvironment object at 0x00000188B0295FC8>, stenv=<pyflink.table.table_environment.StreamTableEnvironment object at 0x00000188B02D4788>)"
      ]
     },
     "execution_count": 1,
     "metadata": {},
     "output_type": "execute_result"
    }
   ],
   "source": [
    "from pyalink.alink import *\n",
    "useLocalEnv(1, flinkHome=None, config=None)\n",
    "\n",
    "\"\"\"\n",
    "ok\n",
    "\"\"\"\n"
   ]
  },
  {
   "cell_type": "code",
   "execution_count": 4,
   "metadata": {},
   "outputs": [
    {
     "name": "stdout",
     "output_type": "stream",
     "text": [
      "     sepal_length  sepal_width\n0             5.1          3.5\n1             5.0          2.0\n2             5.1          3.7\n3             6.4          2.8\n4             6.0          2.9\n..            ...          ...\n145           7.9          3.8\n146           5.2          2.7\n147           6.4          2.7\n148           6.8          3.0\n149           5.7          2.5\n\n[150 rows x 2 columns]\n"
     ]
    }
   ],
   "source": [
    "source = CsvSourceBatchOp()\\\n",
    "    .setSchemaStr(\"sepal_length double, sepal_width double, petal_length double, petal_width double, category string\")\\\n",
    "    .setFilePath(\"https://alink-release.oss-cn-beijing.aliyuncs.com/data-files/iris.csv\")\n",
    "res = source.select([\"sepal_length\", \"sepal_width\"])\n",
    "df = res.collectToDataframe()\n",
    "print(df)\n"
   ]
  },
  {
   "cell_type": "code",
   "execution_count": null,
   "metadata": {},
   "outputs": [],
   "source": []
  }
 ],
 "metadata": {},
 "nbformat": 4,
 "nbformat_minor": 0
}
