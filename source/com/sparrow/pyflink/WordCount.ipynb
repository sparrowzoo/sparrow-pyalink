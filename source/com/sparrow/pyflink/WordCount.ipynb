{
 "cells": [
  {
   "cell_type": "code",
   "execution_count": 7,
   "metadata": {
    "collapsed": true
   },
   "outputs": [],
   "source": [
    "from flink.plan.Environment import get_environment\n",
    "from flink.functions.GroupReduceFunction import GroupReduceFunction\n",
    "\n",
    "\n",
    "class Adder(GroupReduceFunction):\n",
    "    def reduce(self, iterator, collector):\n",
    "        count, word = iterator.next()\n",
    "        count += sum([x[0] for x in iterator])\n",
    "        collector.collect((count, word))\n",
    "\n",
    "\n",
    "print(\"reduce\")\n"
   ]
  },
  {
   "cell_type": "markdown",
   "metadata": {},
   "source": [
    "# 1. 获取一个运行环境    \n",
    "env = get_environment()\n"
   ]
  },
  {
   "cell_type": "code",
   "execution_count": 4,
   "metadata": {},
   "outputs": [],
   "source": [
    "# 2. 加载/创建初始数据\n",
    "data = env.from_elements(\"Who's there?\",\n",
    " \"I think I hear them. Stand, ho! Who's there?\")\n"
   ]
  },
  {
   "cell_type": "code",
   "execution_count": 5,
   "metadata": {},
   "outputs": [
    {
     "data": {
      "text/plain": [
       "<flink.plan.DataSet.DataSink at 0x27765dc1948>"
      ]
     },
     "execution_count": 5,
     "metadata": {},
     "output_type": "execute_result"
    }
   ],
   "source": [
    "# 3. 指定对这些数据的操作    \n",
    "data \\\n",
    "  .flat_map(lambda x, c: [(1, word) for word in x.lower().split()]) \\\n",
    "  .group_by(1) \\\n",
    "  .reduce_group(Adder(), combinable=True) \\\n",
    "  .output()\n"
   ]
  },
  {
   "cell_type": "code",
   "execution_count": null,
   "metadata": {
    "collapsed": true
   },
   "outputs": [],
   "source": [
    "\n",
    "env.execute(local=True)\n",
    "print(\"execute successful \")\n",
    "\n",
    "\n",
    "\n",
    "\n"
   ]
  }
 ],
 "metadata": {
  "kernelspec": {
   "display_name": "Python 2",
   "language": "python",
   "name": "python2"
  },
  "language_info": {
   "codemirror_mode": {
    "name": "ipython",
    "version": 2
   },
   "file_extension": ".py",
   "mimetype": "text/x-python",
   "name": "python",
   "nbconvert_exporter": "python",
   "pygments_lexer": "ipython2",
   "version": "2.7.6"
  }
 },
 "nbformat": 4,
 "nbformat_minor": 0
}
