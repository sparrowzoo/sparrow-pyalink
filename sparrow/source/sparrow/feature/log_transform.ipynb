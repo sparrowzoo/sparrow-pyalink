{
 "cells": [
  {
   "cell_type": "code",
   "execution_count": 3,
   "metadata": {
    "collapsed": true,
    "pycharm": {
     "is_executing": false
    }
   },
   "outputs": [],
   "source": [
    "import json\n",
    "import numpy as np\n",
    "import pandas as pd\n",
    "from sklearn import  linear_model\n",
    "from sklearn.model_selection import  cross_val_score\n",
    "from sparrow.tools.path import get_workspace_path\n",
    "business_file=open(get_workspace_path(\"source/sparrow/feature\")+\"dataset/yelp/yelp_academic_dataset_business.json\")\n",
    "business_data_frame=pd.DataFrame([json.loads(x) for x in business_file.readlines()])\n",
    "business_file.close()\n",
    "\n",
    "business_data_frame[\"log_review_count\"]=np.log10(business_data_frame[\"review_count\"]+1)\n",
    "linear_regression= linear_model.LinearRegression()\n",
    "scores_origin=cross_val_score(linear_regression,business_data_frame[[\"review_count\"]],business_data_frame[\"stars\"],cv=10)\n",
    "linear_regression_log=linear_model.LinearRegression()\n",
    "scores_log=cross_val_score(linear_regression_log,business_data_frame[[\"log_review_count\"]],business_data_frame[\"stars\"],cv=10)\n"
   ]
  },
  {
   "cell_type": "code",
   "execution_count": 7,
   "metadata": {
    "collapsed": false,
    "pycharm": {
     "name": "#%%\n",
     "is_executing": false
    }
   },
   "outputs": [
    {
     "name": "stdout",
     "output_type": "stream",
     "text": [
      "R-squared score without log transform:-0.00013(+/- 0.00071)\n",
      "R-squared score with log transform:-0.00033(+/- 0.00079)\n"
     ]
    }
   ],
   "source": [
    "print(\"R-squared score without log transform:%0.5f(+/- %0.5f)\" % (scores_origin.mean(),scores_origin.std()*2))\n",
    "print(\"R-squared score with log transform:%0.5f(+/- %0.5f)\" % (scores_log.mean(),scores_log.std()*2))\n",
    "\n",
    "\n"
   ]
  }
 ],
 "metadata": {
  "kernelspec": {
   "display_name": "Python 3",
   "language": "python",
   "name": "python3"
  },
  "language_info": {
   "codemirror_mode": {
    "name": "ipython",
    "version": 2
   },
   "file_extension": ".py",
   "mimetype": "text/x-python",
   "name": "python",
   "nbconvert_exporter": "python",
   "pygments_lexer": "ipython2",
   "version": "2.7.6"
  },
  "pycharm": {
   "stem_cell": {
    "cell_type": "raw",
    "source": [],
    "metadata": {
     "collapsed": false
    }
   }
  }
 },
 "nbformat": 4,
 "nbformat_minor": 0
}
