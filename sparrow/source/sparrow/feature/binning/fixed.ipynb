{
 "cells": [
  {
   "cell_type": "code",
   "execution_count": 115,
   "metadata": {
    "collapsed": true,
    "pycharm": {
     "is_executing": false
    }
   },
   "outputs": [
    {
     "name": "stdout",
     "output_type": "stream",
     "text": [
      "[48 46 45 56 96 12 78  8 76 67 82 42 25 63 19 75 43 30 95 21]\n"
     ]
    }
   ],
   "source": [
    "import numpy as np\n",
    "\n",
    "#随机生成 20 个 0-100 之间的整数\n",
    "small_count=np.random.randint(0,100,20)\n",
    "print(small_count)\n"
   ]
  },
  {
   "cell_type": "code",
   "execution_count": 116,
   "metadata": {
    "collapsed": false,
    "pycharm": {
     "name": "#%%\n",
     "is_executing": false
    }
   },
   "outputs": [
    {
     "name": "stdout",
     "output_type": "stream",
     "text": [
      "[4 4 4 5 9 1 7 0 7 6 8 4 2 6 1 7 4 3 9 2]\n"
     ]
    }
   ],
   "source": [
    "#通过整除均匀映射到10的分箱中，每个分箱取值是0-9\n",
    "#举例 68/10=6,18/10=1\n",
    "mapping=np.floor_divide(small_count,10)\n",
    "print(mapping)"
   ]
  },
  {
   "cell_type": "code",
   "execution_count": 117,
   "metadata": {
    "collapsed": false,
    "pycharm": {
     "name": "#%%\n",
     "is_executing": false
    }
   },
   "outputs": [
    {
     "name": "stdout",
     "output_type": "stream",
     "text": [
      "[1. 2. 3. 4. 5. 6. 7. 1. 3.]\n"
     ]
    }
   ],
   "source": [
    "large_count=[19,100,1000,10000,100000,1000000,99999999,22,3224]\n",
    "#举例 log10(10)=1 log10(100)=2\n",
    "large_mapping=np.floor(np.log10(large_count))\n",
    "print(large_mapping)"
   ]
  },
  {
   "cell_type": "code",
   "execution_count": 118,
   "metadata": {
    "collapsed": false,
    "pycharm": {
     "name": "#%%\n",
     "is_executing": false
    }
   },
   "outputs": [
    {
     "name": "stdout",
     "output_type": "stream",
     "text": [
      "quantile count data\n",
      "[11, 33, 22, 66, 55, 77]\n",
      "quantile mapping\n",
      "[0 0 0 1 1 1]\n",
      "series\n",
      "0    11\n",
      "1    33\n",
      "2    22\n",
      "3    66\n",
      "4    55\n",
      "5    77\n",
      "dtype: int64\n",
      "quantile result\n",
      "0.1    16.5\n",
      "0.2    22.0\n",
      "0.3    27.5\n",
      "0.4    33.0\n",
      "0.5    44.0\n",
      "dtype: float64\n"
     ]
    }
   ],
   "source": [
    "#分位数映射\n",
    "import pandas as pd\n",
    "quantile_count=[11,33,22,66,55,77]\n",
    "quantile_mapping= pd.qcut(quantile_count,2,labels=False)\n",
    "print(\"quantile count data\")\n",
    "print(quantile_count)\n",
    "print(\"quantile mapping\")\n",
    "print(quantile_mapping)\n",
    "#将一维数据转成一列矩阵\n",
    "print(\"series\")\n",
    "series=pd.Series(quantile_count)\n",
    "print(series)\n",
    "quantile_result=series.quantile([0.1,0.2,0.3,0.4,0.5])\n",
    "print(\"quantile result\")\n",
    "print(quantile_result)\n",
    "\n",
    "# quantile_result=series.quantile([0.4])\n",
    "# print(\"quantile result 40%\")\n",
    "# print(quantile_result)\n",
    "\n",
    "\n"
   ]
  }
 ],
 "metadata": {
  "kernelspec": {
   "display_name": "Python 3",
   "language": "python",
   "name": "python3"
  },
  "language_info": {
   "codemirror_mode": {
    "name": "ipython",
    "version": 2
   },
   "file_extension": ".py",
   "mimetype": "text/x-python",
   "name": "python",
   "nbconvert_exporter": "python",
   "pygments_lexer": "ipython2",
   "version": "2.7.6"
  },
  "pycharm": {
   "stem_cell": {
    "cell_type": "raw",
    "source": [],
    "metadata": {
     "collapsed": false
    }
   }
  }
 },
 "nbformat": 4,
 "nbformat_minor": 0
}
