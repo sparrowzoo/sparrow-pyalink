{
 "cells": [
  {
   "cell_type": "markdown",
   "metadata": {
    "collapsed": true,
    "pycharm": {
     "name": "#%% md\n"
    }
   },
   "source": [
    "### 什么是特征交叉\n",
    "\n",
    "特征交叉一种合成特征的方法，可以在多维特征数据集上，进行很好的非线性特征拟合。假设一个数据集有特征x1和x2，那么引入交叉特征值x3，使得：\n",
    "```\n",
    "x3=x1*x2\n",
    "```\n",
    "那么最终的表达式为：\n",
    "```\n",
    "y=b+w1x1+w2x2+w3x3\n",
    "```\n",
    "\n",
    "特征交叉本质上是一个笛卡尔积，两个特征列进行笛卡尔积。笛卡尔积中，如果同时满足两者的条件，则结果为1；否则为0，因此这种方式更加适合离散型的数据特征。一般来说，先把数据进行分档处理，再把分档的结果进行特征交叉，此时可以获得更好的数据特征，分档处理可以对数据降维，从而极大地简化计算量。\n",
    "FM(Factorization Machine) 因子分解机"
   ]
  },
  {
   "cell_type": "code",
   "execution_count": 43,
   "metadata": {
    "collapsed": false,
    "pycharm": {
     "name": "#%% \n",
     "is_executing": false
    }
   },
   "outputs": [
    {
     "data": {
      "text/plain": [
       "array([[2, 3, 4]])"
      ]
     },
     "execution_count": 43,
     "metadata": {},
     "output_type": "execute_result"
    }
   ],
   "source": [
    "#f(x)=w1x1+w2x2+w3x3+...+wnxn\n",
    "#victor(a)=(1,x1,x2,x3,xn) 简化为(x1,x2)\n",
    "import numpy as np\n",
    "import pandas as pd\n",
    "from sklearn import linear_model\n",
    "from sklearn.model_selection import train_test_split\n",
    "from sparrow.tools.path import get_workspace_path\n",
    "from sklearn.preprocessing import PolynomialFeatures\n",
    "X = np.arange(2,5).reshape(1, 3)\n",
    "X"
   ]
  },
  {
   "cell_type": "code",
   "execution_count": 44,
   "metadata": {
    "collapsed": false,
    "pycharm": {
     "name": "#%%\n",
     "is_executing": false
    }
   },
   "outputs": [
    {
     "data": {
      "text/plain": [
       "array([[ 1.,  2.,  3.,  4.,  4.,  6.,  8.,  9., 12., 16.]])"
      ]
     },
     "execution_count": 44,
     "metadata": {},
     "output_type": "execute_result"
    }
   ],
   "source": [
    "#victor(a)=(1,x1,x2,x1x2,pow(x1,2),pow(x2,2)\n",
    "poly = PolynomialFeatures(degree = 2)\n",
    "poly.fit_transform(X)"
   ]
  },
  {
   "cell_type": "code",
   "execution_count": 45,
   "metadata": {
    "collapsed": false,
    "pycharm": {
     "name": "#%%\n",
     "is_executing": false
    }
   },
   "outputs": [
    {
     "data": {
      "text/plain": [
       "['1', 'x0', 'x1', 'x2', 'x0^2', 'x0 x1', 'x0 x2', 'x1^2', 'x1 x2', 'x2^2']"
      ]
     },
     "execution_count": 45,
     "metadata": {},
     "output_type": "execute_result"
    }
   ],
   "source": [
    "poly.get_feature_names()"
   ]
  },
  {
   "cell_type": "code",
   "execution_count": 46,
   "metadata": {
    "collapsed": false,
    "pycharm": {
     "name": "#%%\n",
     "is_executing": false
    }
   },
   "outputs": [
    {
     "data": {
      "text/plain": [
       "array([[ 1.,  2.,  3.,  4.,  6.,  8., 12.]])"
      ]
     },
     "execution_count": 46,
     "metadata": {},
     "output_type": "execute_result"
    }
   ],
   "source": [
    "# 设置参数interaction_only = True，不包含单个自变量pow(x1,2),pow(x2,2) x属于N特征数据\n",
    "poly = PolynomialFeatures(degree = 2, interaction_only = True)\n",
    "poly.fit_transform(X)"
   ]
  },
  {
   "cell_type": "code",
   "execution_count": 47,
   "metadata": {
    "collapsed": false,
    "pycharm": {
     "name": "#%%\n",
     "is_executing": false
    }
   },
   "outputs": [
    {
     "data": {
      "text/plain": [
       "array([[ 2.,  3.,  4.,  6.,  8., 12.]])"
      ]
     },
     "execution_count": 47,
     "metadata": {},
     "output_type": "execute_result"
    }
   ],
   "source": [
    "# 再添加 设置参数include_bias= False，不包含偏差项（即为1的项）数据\n",
    "#If True (default), then include a bias column, the feature in which\n",
    "#        all polynomial powers are zero (i.e. a column of ones - acts as an\n",
    "#        intercept term in a linear model\n",
    "poly = PolynomialFeatures(degree = 2, interaction_only = True, include_bias=False)\n",
    "poly.fit_transform(X)\n"
   ]
  },
  {
   "cell_type": "code",
   "execution_count": 48,
   "metadata": {
    "collapsed": false,
    "pycharm": {
     "name": "#%%\n",
     "is_executing": false
    }
   },
   "outputs": [
    {
     "data": {
      "text/html": [
       "<div>\n<style scoped>\n    .dataframe tbody tr th:only-of-type {\n        vertical-align: middle;\n    }\n\n    .dataframe tbody tr th {\n        vertical-align: top;\n    }\n\n    .dataframe thead th {\n        text-align: right;\n    }\n</style>\n<table border=\"1\" class=\"dataframe\">\n  <thead>\n    <tr style=\"text-align: right;\">\n      <th></th>\n      <th>CRIM</th>\n      <th>ZN</th>\n      <th>INDUS</th>\n      <th>CHAS</th>\n      <th>NOX</th>\n      <th>RM</th>\n      <th>AGE</th>\n      <th>DIS</th>\n      <th>RAD</th>\n      <th>TAX</th>\n      <th>PRTATIO</th>\n      <th>B</th>\n      <th>LSTAT</th>\n      <th>MEDV</th>\n    </tr>\n  </thead>\n  <tbody>\n    <tr>\n      <th>count</th>\n      <td>505.000000</td>\n      <td>505.000000</td>\n      <td>505.000000</td>\n      <td>505.000000</td>\n      <td>505.000000</td>\n      <td>505.000000</td>\n      <td>505.000000</td>\n      <td>505.000000</td>\n      <td>505.000000</td>\n      <td>505.000000</td>\n      <td>505.000000</td>\n      <td>505.000000</td>\n      <td>505.000000</td>\n      <td>505.000000</td>\n    </tr>\n    <tr>\n      <th>mean</th>\n      <td>3.620667</td>\n      <td>11.350495</td>\n      <td>11.154257</td>\n      <td>0.069307</td>\n      <td>0.554728</td>\n      <td>6.284059</td>\n      <td>68.581584</td>\n      <td>3.794459</td>\n      <td>9.566337</td>\n      <td>408.459406</td>\n      <td>18.461782</td>\n      <td>356.594376</td>\n      <td>12.668257</td>\n      <td>22.529901</td>\n    </tr>\n    <tr>\n      <th>std</th>\n      <td>8.608572</td>\n      <td>23.343704</td>\n      <td>6.855868</td>\n      <td>0.254227</td>\n      <td>0.115990</td>\n      <td>0.703195</td>\n      <td>28.176371</td>\n      <td>2.107757</td>\n      <td>8.707553</td>\n      <td>168.629992</td>\n      <td>2.162520</td>\n      <td>91.367787</td>\n      <td>7.139950</td>\n      <td>9.205991</td>\n    </tr>\n    <tr>\n      <th>min</th>\n      <td>0.009060</td>\n      <td>0.000000</td>\n      <td>0.460000</td>\n      <td>0.000000</td>\n      <td>0.385000</td>\n      <td>3.561000</td>\n      <td>2.900000</td>\n      <td>1.129600</td>\n      <td>1.000000</td>\n      <td>187.000000</td>\n      <td>12.600000</td>\n      <td>0.320000</td>\n      <td>1.730000</td>\n      <td>5.000000</td>\n    </tr>\n    <tr>\n      <th>25%</th>\n      <td>0.082210</td>\n      <td>0.000000</td>\n      <td>5.190000</td>\n      <td>0.000000</td>\n      <td>0.449000</td>\n      <td>5.885000</td>\n      <td>45.000000</td>\n      <td>2.100000</td>\n      <td>4.000000</td>\n      <td>279.000000</td>\n      <td>17.400000</td>\n      <td>375.330000</td>\n      <td>7.010000</td>\n      <td>17.000000</td>\n    </tr>\n    <tr>\n      <th>50%</th>\n      <td>0.259150</td>\n      <td>0.000000</td>\n      <td>9.690000</td>\n      <td>0.000000</td>\n      <td>0.538000</td>\n      <td>6.208000</td>\n      <td>77.700000</td>\n      <td>3.199200</td>\n      <td>5.000000</td>\n      <td>330.000000</td>\n      <td>19.100000</td>\n      <td>391.430000</td>\n      <td>11.380000</td>\n      <td>21.200000</td>\n    </tr>\n    <tr>\n      <th>75%</th>\n      <td>3.678220</td>\n      <td>12.500000</td>\n      <td>18.100000</td>\n      <td>0.000000</td>\n      <td>0.624000</td>\n      <td>6.625000</td>\n      <td>94.100000</td>\n      <td>5.211900</td>\n      <td>24.000000</td>\n      <td>666.000000</td>\n      <td>20.200000</td>\n      <td>396.210000</td>\n      <td>16.960000</td>\n      <td>25.000000</td>\n    </tr>\n    <tr>\n      <th>max</th>\n      <td>88.976200</td>\n      <td>100.000000</td>\n      <td>27.740000</td>\n      <td>1.000000</td>\n      <td>0.871000</td>\n      <td>8.780000</td>\n      <td>100.000000</td>\n      <td>12.126500</td>\n      <td>24.000000</td>\n      <td>711.000000</td>\n      <td>22.000000</td>\n      <td>396.900000</td>\n      <td>37.970000</td>\n      <td>50.000000</td>\n    </tr>\n  </tbody>\n</table>\n</div>"
      ],
      "text/plain": [
       "             CRIM          ZN       INDUS        CHAS         NOX          RM  \\\ncount  505.000000  505.000000  505.000000  505.000000  505.000000  505.000000   \nmean     3.620667   11.350495   11.154257    0.069307    0.554728    6.284059   \nstd      8.608572   23.343704    6.855868    0.254227    0.115990    0.703195   \nmin      0.009060    0.000000    0.460000    0.000000    0.385000    3.561000   \n25%      0.082210    0.000000    5.190000    0.000000    0.449000    5.885000   \n50%      0.259150    0.000000    9.690000    0.000000    0.538000    6.208000   \n75%      3.678220   12.500000   18.100000    0.000000    0.624000    6.625000   \nmax     88.976200  100.000000   27.740000    1.000000    0.871000    8.780000   \n\n              AGE         DIS         RAD         TAX     PRTATIO           B  \\\ncount  505.000000  505.000000  505.000000  505.000000  505.000000  505.000000   \nmean    68.581584    3.794459    9.566337  408.459406   18.461782  356.594376   \nstd     28.176371    2.107757    8.707553  168.629992    2.162520   91.367787   \nmin      2.900000    1.129600    1.000000  187.000000   12.600000    0.320000   \n25%     45.000000    2.100000    4.000000  279.000000   17.400000  375.330000   \n50%     77.700000    3.199200    5.000000  330.000000   19.100000  391.430000   \n75%     94.100000    5.211900   24.000000  666.000000   20.200000  396.210000   \nmax    100.000000   12.126500   24.000000  711.000000   22.000000  396.900000   \n\n            LSTAT        MEDV  \ncount  505.000000  505.000000  \nmean    12.668257   22.529901  \nstd      7.139950    9.205991  \nmin      1.730000    5.000000  \n25%      7.010000   17.000000  \n50%     11.380000   21.200000  \n75%     16.960000   25.000000  \nmax     37.970000   50.000000  "
      ]
     },
     "execution_count": 48,
     "metadata": {},
     "output_type": "execute_result"
    }
   ],
   "source": [
    "filename = 'dataset/csv/boston_house_prices.csv'\n",
    "names = ['CRIM','ZN','INDUS','CHAS','NOX','RM','AGE','DIS','RAD','TAX','PRTATIO','B','LSTAT','MEDV']\n",
    "dataset = pd.read_csv(get_workspace_path(\"source/sparrow/feature\")+filename,names= names,header=2)\n",
    "dataset.describe()"
   ]
  },
  {
   "cell_type": "code",
   "execution_count": 49,
   "metadata": {
    "collapsed": false,
    "pycharm": {
     "name": "#%%\n",
     "is_executing": false
    }
   },
   "outputs": [
    {
     "data": {
      "text/plain": [
       "(array([[2.7310e-02, 0.0000e+00, 7.0700e+00, ..., 1.7800e+01, 3.9690e+02,\n         9.1400e+00],\n        [2.7290e-02, 0.0000e+00, 7.0700e+00, ..., 1.7800e+01, 3.9283e+02,\n         4.0300e+00],\n        [3.2370e-02, 0.0000e+00, 2.1800e+00, ..., 1.8700e+01, 3.9463e+02,\n         2.9400e+00],\n        ...,\n        [6.0760e-02, 0.0000e+00, 1.1930e+01, ..., 2.1000e+01, 3.9690e+02,\n         5.6400e+00],\n        [1.0959e-01, 0.0000e+00, 1.1930e+01, ..., 2.1000e+01, 3.9345e+02,\n         6.4800e+00],\n        [4.7410e-02, 0.0000e+00, 1.1930e+01, ..., 2.1000e+01, 3.9690e+02,\n         7.8800e+00]]),\n array([21.6, 34.7, 33.4, 36.2, 28.7, 22.9, 27.1, 16.5, 18.9, 15. , 18.9,\n        21.7, 20.4, 18.2, 19.9, 23.1, 17.5, 20.2, 18.2, 13.6, 19.6, 15.2,\n        14.5, 15.6, 13.9, 16.6, 14.8, 18.4, 21. , 12.7, 14.5, 13.2, 13.1,\n        13.5, 18.9, 20. , 21. , 24.7, 30.8, 34.9, 26.6, 25.3, 24.7, 21.2,\n        19.3, 20. , 16.6, 14.4, 19.4, 19.7, 20.5, 25. , 23.4, 18.9, 35.4,\n        24.7, 31.6, 23.3, 19.6, 18.7, 16. , 22.2, 25. , 33. , 23.5, 19.4,\n        22. , 17.4, 20.9, 24.2, 21.7, 22.8, 23.4, 24.1, 21.4, 20. , 20.8,\n        21.2, 20.3, 28. , 23.9, 24.8, 22.9, 23.9, 26.6, 22.5, 22.2, 23.6,\n        28.7, 22.6, 22. , 22.9, 25. , 20.6, 28.4, 21.4, 38.7, 43.8, 33.2,\n        27.5, 26.5, 18.6, 19.3, 20.1, 19.5, 19.5, 20.4, 19.8, 19.4, 21.7,\n        22.8, 18.8, 18.7, 18.5, 18.3, 21.2, 19.2, 20.4, 19.3, 22. , 20.3,\n        20.5, 17.3, 18.8, 21.4, 15.7, 16.2, 18. , 14.3, 19.2, 19.6, 23. ,\n        18.4, 15.6, 18.1, 17.4, 17.1, 13.3, 17.8, 14. , 14.4, 13.4, 15.6,\n        11.8, 13.8, 15.6, 14.6, 17.8, 15.4, 21.5, 19.6, 15.3, 19.4, 17. ,\n        15.6, 13.1, 41.3, 24.3, 23.3, 27. , 50. , 50. , 50. , 22.7, 25. ,\n        50. , 23.8, 23.8, 22.3, 17.4, 19.1, 23.1, 23.6, 22.6, 29.4, 23.2,\n        24.6, 29.9, 37.2, 39.8, 36.2, 37.9, 32.5, 26.4, 29.6, 50. , 32. ,\n        29.8, 34.9, 37. , 30.5, 36.4, 31.1, 29.1, 50. , 33.3, 30.3, 34.6,\n        34.9, 32.9, 24.1, 42.3, 48.5, 50. , 22.6, 24.4, 22.5, 24.4, 20. ,\n        21.7, 19.3, 22.4, 28.1, 23.7, 25. , 23.3, 28.7, 21.5, 23. , 26.7,\n        21.7, 27.5, 30.1, 44.8, 50. , 37.6, 31.6, 46.7, 31.5, 24.3, 31.7,\n        41.7, 48.3, 29. , 24. , 25.1, 31.5, 23.7, 23.3, 22. , 20.1, 22.2,\n        23.7, 17.6, 18.5, 24.3, 20.5, 24.5, 26.2, 24.4, 24.8, 29.6, 42.8,\n        21.9, 20.9, 44. , 50. , 36. , 30.1, 33.8, 43.1, 48.8, 31. , 36.5,\n        22.8, 30.7, 50. , 43.5, 20.7, 21.1, 25.2, 24.4, 35.2, 32.4, 32. ,\n        33.2, 33.1, 29.1, 35.1, 45.4, 35.4, 46. , 50. , 32.2, 22. , 20.1,\n        23.2, 22.3, 24.8, 28.5, 37.3, 27.9, 23.9, 21.7, 28.6, 27.1, 20.3,\n        22.5, 29. , 24.8, 22. , 26.4, 33.1, 36.1, 28.4, 33.4, 28.2, 22.8,\n        20.3, 16.1, 22.1, 19.4, 21.6, 23.8, 16.2, 17.8, 19.8, 23.1, 21. ,\n        23.8, 23.1, 20.4, 18.5, 25. , 24.6, 23. , 22.2, 19.3, 22.6, 19.8,\n        17.1, 19.4, 22.2, 20.7, 21.1, 19.5, 18.5, 20.6, 19. , 18.7, 32.7,\n        16.5, 23.9, 31.2, 17.5, 17.2, 23.1, 24.5, 26.6, 22.9, 24.1, 18.6,\n        30.1, 18.2, 20.6, 17.8, 21.7, 22.7, 22.6, 25. , 19.9, 20.8, 16.8,\n        21.9, 27.5, 21.9, 23.1, 50. , 50. , 50. , 50. , 50. , 13.8, 13.8,\n        15. , 13.9, 13.3, 13.1, 10.2, 10.4, 10.9, 11.3, 12.3,  8.8,  7.2,\n        10.5,  7.4, 10.2, 11.5, 15.1, 23.2,  9.7, 13.8, 12.7, 13.1, 12.5,\n         8.5,  5. ,  6.3,  5.6,  7.2, 12.1,  8.3,  8.5,  5. , 11.9, 27.9,\n        17.2, 27.5, 15. , 17.2, 17.9, 16.3,  7. ,  7.2,  7.5, 10.4,  8.8,\n         8.4, 16.7, 14.2, 20.8, 13.4, 11.7,  8.3, 10.2, 10.9, 11. ,  9.5,\n        14.5, 14.1, 16.1, 14.3, 11.7, 13.4,  9.6,  8.7,  8.4, 12.8, 10.5,\n        17.1, 18.4, 15.4, 10.8, 11.8, 14.9, 12.6, 14.1, 13. , 13.4, 15.2,\n        16.1, 17.8, 14.9, 14.1, 12.7, 13.5, 14.9, 20. , 16.4, 17.7, 19.5,\n        20.2, 21.4, 19.9, 19. , 19.1, 19.1, 20.1, 19.9, 19.6, 23.2, 29.8,\n        13.8, 13.3, 16.7, 12. , 14.6, 21.4, 23. , 23.7, 25. , 21.8, 20.6,\n        21.2, 19.1, 20.6, 15.2,  7. ,  8.1, 13.6, 20.1, 21.8, 24.5, 23.1,\n        19.7, 18.3, 21.2, 17.5, 16.8, 22.4, 20.6, 23.9, 22. , 11.9]))"
      ]
     },
     "execution_count": 49,
     "metadata": {},
     "output_type": "execute_result"
    }
   ],
   "source": [
    "validation_size = 0.2\n",
    "seed = 7\n",
    "array = dataset.to_numpy()\n",
    "X = array[:, 0:13]\n",
    "Y = array[:, 13]\n",
    "X,Y"
   ]
  },
  {
   "cell_type": "code",
   "execution_count": 56,
   "metadata": {
    "collapsed": false,
    "pycharm": {
     "name": "#%%\n",
     "is_executing": false
    }
   },
   "outputs": [
    {
     "data": {
      "text/plain": [
       "['x0',\n 'x1',\n 'x2',\n 'x3',\n 'x4',\n 'x5',\n 'x6',\n 'x7',\n 'x8',\n 'x9',\n 'x10',\n 'x11',\n 'x12',\n 'x0^2',\n 'x0 x1',\n 'x0 x2',\n 'x0 x3',\n 'x0 x4',\n 'x0 x5',\n 'x0 x6',\n 'x0 x7',\n 'x0 x8',\n 'x0 x9',\n 'x0 x10',\n 'x0 x11',\n 'x0 x12',\n 'x1^2',\n 'x1 x2',\n 'x1 x3',\n 'x1 x4',\n 'x1 x5',\n 'x1 x6',\n 'x1 x7',\n 'x1 x8',\n 'x1 x9',\n 'x1 x10',\n 'x1 x11',\n 'x1 x12',\n 'x2^2',\n 'x2 x3',\n 'x2 x4',\n 'x2 x5',\n 'x2 x6',\n 'x2 x7',\n 'x2 x8',\n 'x2 x9',\n 'x2 x10',\n 'x2 x11',\n 'x2 x12',\n 'x3^2',\n 'x3 x4',\n 'x3 x5',\n 'x3 x6',\n 'x3 x7',\n 'x3 x8',\n 'x3 x9',\n 'x3 x10',\n 'x3 x11',\n 'x3 x12',\n 'x4^2',\n 'x4 x5',\n 'x4 x6',\n 'x4 x7',\n 'x4 x8',\n 'x4 x9',\n 'x4 x10',\n 'x4 x11',\n 'x4 x12',\n 'x5^2',\n 'x5 x6',\n 'x5 x7',\n 'x5 x8',\n 'x5 x9',\n 'x5 x10',\n 'x5 x11',\n 'x5 x12',\n 'x6^2',\n 'x6 x7',\n 'x6 x8',\n 'x6 x9',\n 'x6 x10',\n 'x6 x11',\n 'x6 x12',\n 'x7^2',\n 'x7 x8',\n 'x7 x9',\n 'x7 x10',\n 'x7 x11',\n 'x7 x12',\n 'x8^2',\n 'x8 x9',\n 'x8 x10',\n 'x8 x11',\n 'x8 x12',\n 'x9^2',\n 'x9 x10',\n 'x9 x11',\n 'x9 x12',\n 'x10^2',\n 'x10 x11',\n 'x10 x12',\n 'x11^2',\n 'x11 x12',\n 'x12^2']"
      ]
     },
     "execution_count": 56,
     "metadata": {},
     "output_type": "execute_result"
    }
   ],
   "source": [
    "polyFeatureHouse=PolynomialFeatures(include_bias=False)\n",
    "X2=polyFeatureHouse.fit_transform(X)\n",
    "polyFeatureHouse.get_feature_names()"
   ]
  },
  {
   "cell_type": "code",
   "execution_count": null,
   "metadata": {
    "collapsed": false,
    "pycharm": {
     "name": "#%%\n"
    }
   },
   "outputs": [],
   "source": [
    "X_train, X_test,X2_train, X2_test, Y_train, Y_test = train_test_split(X, X2, Y, test_size=validation_size, random_state= seed)\n",
    "\n",
    "linear_regressor=linear_model.LinearRegression()\n",
    "linear_regressor.fit(X_train,Y_train)\n",
    "linear_regressor.score(X_test,Y_test)"
   ]
  },
  {
   "cell_type": "code",
   "execution_count": 53,
   "metadata": {
    "collapsed": false,
    "pycharm": {
     "name": "#%%\n",
     "is_executing": false
    }
   },
   "outputs": [
    {
     "data": {
      "text/plain": [
       "0.8654012079831455"
      ]
     },
     "execution_count": 53,
     "metadata": {},
     "output_type": "execute_result"
    }
   ],
   "source": [
    "linear_regressor2=linear_model.LinearRegression()\n",
    "linear_regressor2.fit(X2_train,Y_train)\n",
    "linear_regressor2.score(X2_test,Y_test)\n",
    "\n",
    "\n"
   ]
  }
 ],
 "metadata": {
  "kernelspec": {
   "display_name": "Python 3",
   "language": "python",
   "name": "python3"
  },
  "language_info": {
   "codemirror_mode": {
    "name": "ipython",
    "version": 2
   },
   "file_extension": ".py",
   "mimetype": "text/x-python",
   "name": "python",
   "nbconvert_exporter": "python",
   "pygments_lexer": "ipython2",
   "version": "2.7.6"
  },
  "pycharm": {
   "stem_cell": {
    "cell_type": "raw",
    "source": [],
    "metadata": {
     "collapsed": false
    }
   }
  }
 },
 "nbformat": 4,
 "nbformat_minor": 0
}
