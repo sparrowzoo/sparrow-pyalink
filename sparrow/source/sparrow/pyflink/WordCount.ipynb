{
 "cells": [
  {
   "cell_type": "code",
   "execution_count": 9,
   "outputs": [],
   "source": [
    "import logging\n",
    "import os\n",
    "import shutil\n",
    "import sys\n",
    "import tempfile\n",
    "from flink.plan.Environment import get_environment\n",
    "from pyflink.dataset import ExecutionEnvironment\n",
    "from pyflink.table import BatchTableEnvironment, TableConfig\n",
    "from pyflink.table.descriptors import FileSystem, OldCsv, Schema\n",
    "from pyflink.table.types import DataTypes\n"
   ],
   "metadata": {
    "collapsed": false,
    "pycharm": {
     "name": "#%%\n",
     "is_executing": false
    }
   }
  },
  {
   "cell_type": "code",
   "metadata": {
    "pycharm": {
     "name": "#%% \n",
     "is_executing": false
    }
   },
   "source": [
    "   \n",
    "env = get_environment()\n"
   ],
   "execution_count": 10,
   "outputs": []
  },
  {
   "cell_type": "code",
   "execution_count": 11,
   "metadata": {
    "pycharm": {
     "is_executing": false
    }
   },
   "outputs": [],
   "source": [
    "def word_count():\n",
    "    content = \"line Licensed to the Apache Software Foundation ASF under one \" \\\n",
    "              \"line or more contributor license agreements See the NOTICE file \" \\\n",
    "              \"line distributed with this work for additional information \" \\\n",
    "              \"line regarding copyright ownership The ASF licenses this file \" \\\n",
    "              \"to you under the Apache License Version the \" \\\n",
    "              \"License you may not use this file except in compliance \" \\\n",
    "              \"with the License\"\n",
    "\n",
    "    t_config = TableConfig()\n",
    "    env = ExecutionEnvironment.get_execution_environment()\n",
    "    t_env = BatchTableEnvironment.create(env, t_config)\n",
    "\n",
    "    # register Results table in table environment\n",
    "    tmp_dir = tempfile.gettempdir()\n",
    "    result_path = tmp_dir + '/result'\n",
    "    if os.path.exists(result_path):\n",
    "        try:\n",
    "            if os.path.isfile(result_path):\n",
    "                os.remove(result_path)\n",
    "            else:\n",
    "                shutil.rmtree(result_path)\n",
    "        except OSError as e:\n",
    "            logging.error(\"Error removing directory: %s - %s.\", e.filename, e.strerror)\n",
    "\n",
    "    logging.info(\"Results directory: %s\", result_path)\n",
    "\n",
    "    t_env.connect(FileSystem().path(result_path)) \\\n",
    "        .with_format(OldCsv()\n",
    "                     .field_delimiter(',')\n",
    "                     .field(\"word\", DataTypes.STRING())\n",
    "                     .field(\"count\", DataTypes.BIGINT())) \\\n",
    "        .with_schema(Schema()\n",
    "                     .field(\"word\", DataTypes.STRING())\n",
    "                     .field(\"count\", DataTypes.BIGINT())) \\\n",
    "        .create_temporary_table(\"Results\")\n",
    "\n",
    "    elements = [(word, 1) for word in content.split(\" \")]\n",
    "    t_env.from_elements(elements, [\"word\", \"count\"]) \\\n",
    "         .group_by(\"word\") \\\n",
    "         .select(\"word, count(1) as count\") \\\n",
    "         .insert_into(\"Results\")\n",
    "\n",
    "    t_env.execute(\"word_count\")\n"
   ]
  },
  {
   "cell_type": "code",
   "execution_count": 8,
   "metadata": {
    "collapsed": true,
    "pycharm": {
     "is_executing": false
    }
   },
   "outputs": [
    {
     "name": "stdout",
     "text": [
      "Results directory: /var/folders/t1/4zgnbkqj0fbfdhvknbrbb5tr0000gn/T/result\n"
     ],
     "output_type": "stream"
    }
   ],
   "source": [
    "if __name__ == '__main__':\n",
    "    logging.basicConfig(stream=sys.stdout, level=logging.INFO, format=\"%(message)s\")\n",
    "\n",
    "    word_count()"
   ]
  },
  {
   "cell_type": "code",
   "execution_count": null,
   "metadata": {},
   "outputs": [],
   "source": []
  }
 ],
 "metadata": {
  "kernelspec": {
   "name": "pycharm-bacaddb5",
   "language": "python",
   "display_name": "PyCharm (sparrow-pyalink)"
  },
  "language_info": {
   "codemirror_mode": {
    "name": "ipython",
    "version": 2
   },
   "file_extension": ".py",
   "mimetype": "text/x-python",
   "name": "python",
   "nbconvert_exporter": "python",
   "pygments_lexer": "ipython2",
   "version": "2.7.6"
  },
  "pycharm": {
   "stem_cell": {
    "cell_type": "raw",
    "source": [],
    "metadata": {
     "collapsed": false
    }
   }
  }
 },
 "nbformat": 4,
 "nbformat_minor": 0
}