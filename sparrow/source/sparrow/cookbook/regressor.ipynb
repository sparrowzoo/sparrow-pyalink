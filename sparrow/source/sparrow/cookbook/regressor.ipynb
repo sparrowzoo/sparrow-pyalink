{
 "cells": [
  {
   "cell_type": "code",
   "execution_count": 1,
   "metadata": {
    "collapsed": true,
    "pycharm": {
     "is_executing": false
    }
   },
   "outputs": [
    {
     "data": {
      "text/plain": [
       "([1.0,\n  3.0,\n  1.0,\n  7.0,\n  8.0,\n  9.0,\n  11.0,\n  1.0,\n  22.0,\n  10.0,\n  29.0,\n  10.0,\n  2.0,\n  5.0,\n  9.0,\n  1.0,\n  2.0,\n  3.0,\n  9.0,\n  17.0,\n  16.0,\n  1.0,\n  99.0,\n  2.0,\n  7.0,\n  15.0,\n  32.0,\n  60.0,\n  2.0,\n  7.0,\n  19.0,\n  10.0,\n  17.0,\n  33.0,\n  65.0,\n  120.0,\n  249.0,\n  487.0,\n  1.0,\n  2.0,\n  8.0,\n  10.0,\n  1.0],\n [2.0,\n  6.0,\n  2.6,\n  10.9,\n  20.0,\n  19.0,\n  22.0,\n  2.0,\n  22.0,\n  20.0,\n  50.0,\n  23.0,\n  4.0,\n  11.0,\n  18.0,\n  3.0,\n  5.0,\n  7.0,\n  17.0,\n  33.0,\n  31.0,\n  10.0,\n  180.0,\n  5.0,\n  15.0,\n  32.0,\n  60.0,\n  110.0,\n  5.0,\n  10.0,\n  37.0,\n  17.0,\n  33.0,\n  65.0,\n  120.0,\n  249.0,\n  487.0,\n  1000.0,\n  2.0,\n  5.0,\n  19.0,\n  28.0,\n  1.2])"
      ]
     },
     "execution_count": 1,
     "metadata": {},
     "output_type": "execute_result"
    }
   ],
   "source": [
    "import numpy as np\n",
    "from sparrow.tools.path import get_workspace_path\n",
    "from sklearn import linear_model\n",
    "import matplotlib.pyplot  as plt\n",
    "from sparrow.tools.metrics import output_metrics\n",
    "#filename=sys.argv[1]\n",
    "workspace_path=get_workspace_path(\"source/sparrow/cookbook\")\n",
    "X=[]\n",
    "Y=[]\n",
    "with open(workspace_path+\"dataset/csv/regressor.csv\",'r') as f:\n",
    "    for line in f.readlines():\n",
    "        x,y=[float(i) for i in line.split(\",\")]\n",
    "        X.append(x)\n",
    "        Y.append(y)\n",
    "X,Y"
   ]
  },
  {
   "cell_type": "code",
   "execution_count": 2,
   "metadata": {
    "collapsed": false,
    "pycharm": {
     "name": "#%%\n",
     "is_executing": false
    }
   },
   "outputs": [
    {
     "data": {
      "text/plain": [
       "(34, 9)"
      ]
     },
     "execution_count": 2,
     "metadata": {},
     "output_type": "execute_result"
    }
   ],
   "source": [
    "length=len(X)\n",
    "num_training=int(0.8*length)\n",
    "num_test=length-num_training\n",
    "num_training,num_test"
   ]
  },
  {
   "cell_type": "code",
   "execution_count": 3,
   "metadata": {
    "collapsed": false,
    "pycharm": {
     "name": "#%%\n",
     "is_executing": false
    }
   },
   "outputs": [
    {
     "data": {
      "text/plain": [
       "([1.0,\n  3.0,\n  1.0,\n  7.0,\n  8.0,\n  9.0,\n  11.0,\n  1.0,\n  22.0,\n  10.0,\n  29.0,\n  10.0,\n  2.0,\n  5.0,\n  9.0,\n  1.0,\n  2.0,\n  3.0,\n  9.0,\n  17.0,\n  16.0,\n  1.0,\n  99.0,\n  2.0,\n  7.0,\n  15.0,\n  32.0,\n  60.0,\n  2.0,\n  7.0,\n  19.0,\n  10.0,\n  17.0,\n  33.0],\n array([[ 1.],\n        [ 3.],\n        [ 1.],\n        [ 7.],\n        [ 8.],\n        [ 9.],\n        [11.],\n        [ 1.],\n        [22.],\n        [10.],\n        [29.],\n        [10.],\n        [ 2.],\n        [ 5.],\n        [ 9.],\n        [ 1.],\n        [ 2.],\n        [ 3.],\n        [ 9.],\n        [17.],\n        [16.],\n        [ 1.],\n        [99.],\n        [ 2.],\n        [ 7.],\n        [15.],\n        [32.],\n        [60.],\n        [ 2.],\n        [ 7.],\n        [19.],\n        [10.],\n        [17.],\n        [33.]]),\n array([  2. ,   6. ,   2.6,  10.9,  20. ,  19. ,  22. ,   2. ,  22. ,\n         20. ,  50. ,  23. ,   4. ,  11. ,  18. ,   3. ,   5. ,   7. ,\n         17. ,  33. ,  31. ,  10. , 180. ,   5. ,  15. ,  32. ,  60. ,\n        110. ,   5. ,  10. ,  37. ,  17. ,  33. ,  65. ]))"
      ]
     },
     "execution_count": 3,
     "metadata": {},
     "output_type": "execute_result"
    }
   ],
   "source": [
    "X_train=np.array(X[:num_training]).reshape((num_training,1))\n",
    "Y_train=np.array(Y[:num_training])\n",
    "X[:num_training],X_train,Y_train"
   ]
  },
  {
   "cell_type": "code",
   "execution_count": 4,
   "metadata": {
    "collapsed": false,
    "pycharm": {
     "name": "#%%\n",
     "is_executing": false
    }
   },
   "outputs": [
    {
     "data": {
      "text/plain": [
       "([65.0, 120.0, 249.0, 487.0, 1.0, 2.0, 8.0, 10.0, 1.0],\n array([[ 65.],\n        [120.],\n        [249.],\n        [487.],\n        [  1.],\n        [  2.],\n        [  8.],\n        [ 10.],\n        [  1.]]),\n array([ 120. ,  249. ,  487. , 1000. ,    2. ,    5. ,   19. ,   28. ,\n           1.2]))"
      ]
     },
     "execution_count": 4,
     "metadata": {},
     "output_type": "execute_result"
    }
   ],
   "source": [
    "X_test=np.array(X[num_training:]).reshape((num_test,1))\n",
    "Y_test=np.array(Y[num_training:])\n",
    "\n",
    "X[num_training:],X_test,Y_test"
   ]
  },
  {
   "cell_type": "code",
   "execution_count": 5,
   "metadata": {
    "collapsed": false,
    "pycharm": {
     "name": "#%%\n",
     "is_executing": false
    }
   },
   "outputs": [
    {
     "data": {
      "text/plain": [
       "LinearRegression(copy_X=True, fit_intercept=True, n_jobs=None, normalize=False)"
      ]
     },
     "execution_count": 5,
     "metadata": {},
     "output_type": "execute_result"
    }
   ],
   "source": [
    "linear_regressor=linear_model.LinearRegression()\n",
    "linear_regressor.fit(X_train,Y_train)"
   ]
  },
  {
   "cell_type": "code",
   "execution_count": 6,
   "metadata": {
    "collapsed": false,
    "pycharm": {
     "name": "#%%\n",
     "is_executing": false
    }
   },
   "outputs": [
    {
     "data": {
      "image/png": "[encoded data removed]",
      "text/plain": [
       "<Figure size 432x288 with 1 Axes>"
      ]
     },
     "metadata": {
      "needs_background": "light"
     },
     "output_type": "display_data"
    }
   ],
   "source": [
    "Y_train_pred=linear_regressor.predict(X_train)\n",
    "plt.figure()\n",
    "#散点\n",
    "plt.scatter(X_train,Y_train,color=\"green\")\n",
    "#画线\n",
    "plt.plot(X_train,Y_train_pred,color=\"black\",linewidth=\"1\")\n",
    "plt.title(\"Training data\")\n",
    "plt.show()\n"
   ]
  },
  {
   "cell_type": "code",
   "execution_count": 7,
   "metadata": {
    "collapsed": false,
    "pycharm": {
     "name": "#%%\n",
     "is_executing": false
    }
   },
   "outputs": [
    {
     "data": {
      "image/png": "[encoded data removed]",
      "text/plain": [
       "<Figure size 432x288 with 1 Axes>"
      ]
     },
     "metadata": {
      "needs_background": "light"
     },
     "output_type": "display_data"
    }
   ],
   "source": [
    "Y_test_pred=linear_regressor.predict(X_test)\n",
    "plt.figure()\n",
    "#散点\n",
    "plt.scatter(X_test,Y_test,color=\"green\")\n",
    "#画线\n",
    "plt.plot(X_test,Y_test_pred,color=\"black\",linewidth=\"1\")\n",
    "plt.title(\"Testing data\")\n",
    "plt.show()"
   ]
  },
  {
   "cell_type": "code",
   "execution_count": 8,
   "metadata": {
    "collapsed": false,
    "pycharm": {
     "name": "#%%\n",
     "is_executing": false
    }
   },
   "outputs": [
    {
     "name": "stdout",
     "output_type": "stream",
     "text": [
      "平均绝对误差 Mean absolute error= 23.6\n",
      "均方误差(最低） Mean squared error= 2011.2\n",
      "中位数绝对误差 Median absolute error= 3.29\n",
      "解释方差分(最高 1.0) explained variance score= 0.99\n",
      "R方得分（最高1.0，可能为负) R2 score 0.98\n"
     ]
    }
   ],
   "source": [
    "output_metrics(Y_test,Y_test_pred)"
   ]
  },
  {
   "cell_type": "code",
   "execution_count": 9,
   "metadata": {
    "collapsed": false,
    "pycharm": {
     "name": "#%%\n",
     "is_executing": false
    }
   },
   "outputs": [
    {
     "name": "stdout",
     "output_type": "stream",
     "text": [
      "平均绝对误差 Mean absolute error= 23.88\n",
      "均方误差(最低） Mean squared error= 2057.25\n",
      "中位数绝对误差 Median absolute error= 3.27\n",
      "解释方差分(最高 1.0) explained variance score= 0.98\n",
      "R方得分（最高1.0，可能为负) R2 score 0.98\n"
     ]
    },
    {
     "data": {
      "image/png": "[encoded data removed]",
      "text/plain": [
       "<Figure size 432x288 with 1 Axes>"
      ]
     },
     "metadata": {
      "needs_background": "light"
     },
     "output_type": "display_data"
    }
   ],
   "source": [
    "ridge_regressor=linear_model.Ridge(alpha=20,fit_intercept=True,max_iter=1000000)\n",
    "ridge_regressor.fit(X_train,Y_train)\n",
    "y_test_pred_ridge=ridge_regressor.predict(X_test)\n",
    "\n",
    "output_metrics(Y_test,y_test_pred_ridge)\n",
    "\n",
    "plt.figure()\n",
    "#散点\n",
    "plt.scatter(X_test,Y_test,color=\"green\")\n",
    "#画线\n",
    "plt.plot(X_test,y_test_pred_ridge,color=\"black\",linewidth=\"1\")\n",
    "plt.title(\"Testing data\")\n",
    "plt.show()\n"
   ]
  }
 ],
 "metadata": {
  "kernelspec": {
   "display_name": "Python 3",
   "language": "python",
   "name": "python3"
  },
  "language_info": {
   "codemirror_mode": {
    "name": "ipython",
    "version": 2
   },
   "file_extension": ".py",
   "mimetype": "text/x-python",
   "name": "python",
   "nbconvert_exporter": "python",
   "pygments_lexer": "ipython2",
   "version": "2.7.6"
  },
  "pycharm": {
   "stem_cell": {
    "cell_type": "raw",
    "source": [],
    "metadata": {
     "collapsed": false
    }
   }
  }
 },
 "nbformat": 4,
 "nbformat_minor": 0
}
