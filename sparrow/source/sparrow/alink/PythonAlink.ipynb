{
 "cells": [
  {
   "cell_type": "code",
   "execution_count": 1,
   "metadata": {
    "pycharm": {
     "is_executing": false
    }
   },
   "outputs": [
    {
     "name": "stdout",
     "output_type": "stream",
     "text": [
      "\n",
      "Use one of the following commands to start using PyAlink:\n",
      " - useLocalEnv(parallelism, flinkHome=None, config=None)\n",
      " - useRemoteEnv(host, port, parallelism, flinkHome=None, localIp=\"localhost\", config=None)\n",
      "Call resetEnv() to reset environment and switch to another.\n",
      "\n",
      "JVM listening on 127.0.0.1:58709\n"
     ]
    },
    {
     "data": {
      "text/plain": [
       "MLEnv(benv=<pyflink.dataset.execution_environment.ExecutionEnvironment object at 0x104f9ac90>, btenv=<pyflink.table.table_environment.BatchTableEnvironment object at 0x10e463c10>, senv=<pyflink.datastream.stream_execution_environment.StreamExecutionEnvironment object at 0x10e463790>, stenv=<pyflink.table.table_environment.StreamTableEnvironment object at 0x10e482f90>)"
      ]
     },
     "execution_count": 1,
     "metadata": {},
     "output_type": "execute_result"
    }
   ],
   "source": [
    "from pyalink.alink import CsvSourceBatchOp, useLocalEnv\n",
    "useLocalEnv(1, flinkHome=None, config=None)"
   ]
  },
  {
   "cell_type": "code",
   "execution_count": 2,
   "metadata": {
    "pycharm": {
     "is_executing": false
    }
   },
   "outputs": [
    {
     "name": "stdout",
     "output_type": "stream",
     "text": [
      "     sepal_length  sepal_width\n",
      "0             5.1          3.5\n",
      "1             5.0          2.0\n",
      "2             5.1          3.7\n",
      "3             6.4          2.8\n",
      "4             6.0          2.9\n",
      "..            ...          ...\n",
      "145           7.9          3.8\n",
      "146           5.2          2.7\n",
      "147           6.4          2.7\n",
      "148           6.8          3.0\n",
      "149           5.7          2.5\n",
      "\n",
      "[150 rows x 2 columns]\n"
     ]
    }
   ],
   "source": [
    "source = CsvSourceBatchOp()\\\n",
    "    .setSchemaStr(\"sepal_length double, sepal_width double, petal_length double, petal_width double, category string\")\\\n",
    "    .setFilePath(\"https://alink-release.oss-cn-beijing.aliyuncs.com/data-files/iris.csv\")\n",
    "res = source.select([\"sepal_length\", \"sepal_width\"])\n",
    "df = res.collectToDataframe()\n",
    "print(df)\n"
   ]
  },
  {
   "cell_type": "code",
   "execution_count": 3,
   "metadata": {
    "pycharm": {
     "is_executing": false
    }
   },
   "outputs": [],
   "source": []
  }
 ],
 "metadata": {
  "pycharm": {
   "stem_cell": {
    "cell_type": "raw",
    "source": [],
    "metadata": {
     "collapsed": false
    }
   }
  },
  "kernelspec": {
   "name": "pycharm-bacaddb5",
   "language": "python",
   "display_name": "PyCharm (sparrow-pyalink)"
  }
 },
 "nbformat": 4,
 "nbformat_minor": 0
}
